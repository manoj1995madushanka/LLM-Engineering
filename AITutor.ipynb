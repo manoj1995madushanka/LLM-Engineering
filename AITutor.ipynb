{
 "cells": [
  {
   "cell_type": "code",
   "execution_count": 1,
   "metadata": {
    "collapsed": true,
    "ExecuteTime": {
     "end_time": "2025-09-05T16:08:20.102192200Z",
     "start_time": "2025-09-05T16:06:35.225992800Z"
    }
   },
   "outputs": [
    {
     "name": "stdout",
     "output_type": "stream",
     "text": [
      "Collecting gradio\n",
      "  Downloading gradio-5.44.1-py3-none-any.whl.metadata (16 kB)\n",
      "Collecting aiofiles<25.0,>=22.0 (from gradio)\n",
      "  Downloading aiofiles-24.1.0-py3-none-any.whl.metadata (10 kB)\n",
      "Requirement already satisfied: anyio<5.0,>=3.0 in c:\\users\\acer\\anaconda3\\lib\\site-packages (from gradio) (4.2.0)\n",
      "Collecting brotli>=1.1.0 (from gradio)\n",
      "  Downloading Brotli-1.1.0-cp312-cp312-win_amd64.whl.metadata (5.6 kB)\n",
      "Collecting fastapi<1.0,>=0.115.2 (from gradio)\n",
      "  Downloading fastapi-0.116.1-py3-none-any.whl.metadata (28 kB)\n",
      "Collecting ffmpy (from gradio)\n",
      "  Downloading ffmpy-0.6.1-py3-none-any.whl.metadata (2.9 kB)\n",
      "Collecting gradio-client==1.12.1 (from gradio)\n",
      "  Downloading gradio_client-1.12.1-py3-none-any.whl.metadata (7.1 kB)\n",
      "Collecting groovy~=0.1 (from gradio)\n",
      "  Downloading groovy-0.1.2-py3-none-any.whl.metadata (6.1 kB)\n",
      "Requirement already satisfied: httpx<1.0,>=0.24.1 in c:\\users\\acer\\anaconda3\\lib\\site-packages (from gradio) (0.28.1)\n",
      "Collecting huggingface-hub<1.0,>=0.33.5 (from gradio)\n",
      "  Downloading huggingface_hub-0.34.4-py3-none-any.whl.metadata (14 kB)\n",
      "Requirement already satisfied: jinja2<4.0 in c:\\users\\acer\\anaconda3\\lib\\site-packages (from gradio) (3.1.4)\n",
      "Requirement already satisfied: markupsafe<4.0,>=2.0 in c:\\users\\acer\\anaconda3\\lib\\site-packages (from gradio) (2.1.3)\n",
      "Requirement already satisfied: numpy<3.0,>=1.0 in c:\\users\\acer\\anaconda3\\lib\\site-packages (from gradio) (1.26.4)\n",
      "Collecting orjson~=3.0 (from gradio)\n",
      "  Downloading orjson-3.11.3-cp312-cp312-win_amd64.whl.metadata (43 kB)\n",
      "     ---------------------------------------- 0.0/43.0 kB ? eta -:--:--\n",
      "     ---------------------------------------- 43.0/43.0 kB 2.0 MB/s eta 0:00:00\n",
      "Requirement already satisfied: packaging in c:\\users\\acer\\anaconda3\\lib\\site-packages (from gradio) (23.2)\n",
      "Requirement already satisfied: pandas<3.0,>=1.0 in c:\\users\\acer\\anaconda3\\lib\\site-packages (from gradio) (2.2.2)\n",
      "Requirement already satisfied: pillow<12.0,>=8.0 in c:\\users\\acer\\anaconda3\\lib\\site-packages (from gradio) (10.3.0)\n",
      "Requirement already satisfied: pydantic<2.12,>=2.0 in c:\\users\\acer\\anaconda3\\lib\\site-packages (from gradio) (2.8.2)\n",
      "Collecting pydub (from gradio)\n",
      "  Downloading pydub-0.25.1-py2.py3-none-any.whl.metadata (1.4 kB)\n",
      "Collecting python-multipart>=0.0.18 (from gradio)\n",
      "  Downloading python_multipart-0.0.20-py3-none-any.whl.metadata (1.8 kB)\n",
      "Requirement already satisfied: pyyaml<7.0,>=5.0 in c:\\users\\acer\\anaconda3\\lib\\site-packages (from gradio) (6.0.1)\n",
      "Collecting ruff>=0.9.3 (from gradio)\n",
      "  Downloading ruff-0.12.12-py3-none-win_amd64.whl.metadata (26 kB)\n",
      "Collecting safehttpx<0.2.0,>=0.1.6 (from gradio)\n",
      "  Downloading safehttpx-0.1.6-py3-none-any.whl.metadata (4.2 kB)\n",
      "Collecting semantic-version~=2.0 (from gradio)\n",
      "  Downloading semantic_version-2.10.0-py2.py3-none-any.whl.metadata (9.7 kB)\n",
      "Collecting starlette<1.0,>=0.40.0 (from gradio)\n",
      "  Downloading starlette-0.47.3-py3-none-any.whl.metadata (6.2 kB)\n",
      "Collecting tomlkit<0.14.0,>=0.12.0 (from gradio)\n",
      "  Downloading tomlkit-0.13.3-py3-none-any.whl.metadata (2.8 kB)\n",
      "Collecting typer<1.0,>=0.12 (from gradio)\n",
      "  Downloading typer-0.17.3-py3-none-any.whl.metadata (15 kB)\n",
      "Requirement already satisfied: typing-extensions~=4.0 in c:\\users\\acer\\anaconda3\\lib\\site-packages (from gradio) (4.11.0)\n",
      "Collecting uvicorn>=0.14.0 (from gradio)\n",
      "  Downloading uvicorn-0.35.0-py3-none-any.whl.metadata (6.5 kB)\n",
      "Requirement already satisfied: fsspec in c:\\users\\acer\\anaconda3\\lib\\site-packages (from gradio-client==1.12.1->gradio) (2024.3.1)\n",
      "Collecting websockets<16.0,>=10.0 (from gradio-client==1.12.1->gradio)\n",
      "  Downloading websockets-15.0.1-cp312-cp312-win_amd64.whl.metadata (7.0 kB)\n",
      "Requirement already satisfied: idna>=2.8 in c:\\users\\acer\\anaconda3\\lib\\site-packages (from anyio<5.0,>=3.0->gradio) (3.7)\n",
      "Requirement already satisfied: sniffio>=1.1 in c:\\users\\acer\\anaconda3\\lib\\site-packages (from anyio<5.0,>=3.0->gradio) (1.3.0)\n",
      "Requirement already satisfied: certifi in c:\\users\\acer\\anaconda3\\lib\\site-packages (from httpx<1.0,>=0.24.1->gradio) (2024.8.30)\n",
      "Requirement already satisfied: httpcore==1.* in c:\\users\\acer\\anaconda3\\lib\\site-packages (from httpx<1.0,>=0.24.1->gradio) (1.0.9)\n",
      "Requirement already satisfied: h11>=0.16 in c:\\users\\acer\\anaconda3\\lib\\site-packages (from httpcore==1.*->httpx<1.0,>=0.24.1->gradio) (0.16.0)\n",
      "Requirement already satisfied: filelock in c:\\users\\acer\\anaconda3\\lib\\site-packages (from huggingface-hub<1.0,>=0.33.5->gradio) (3.13.1)\n",
      "Requirement already satisfied: requests in c:\\users\\acer\\anaconda3\\lib\\site-packages (from huggingface-hub<1.0,>=0.33.5->gradio) (2.32.2)\n",
      "Requirement already satisfied: tqdm>=4.42.1 in c:\\users\\acer\\anaconda3\\lib\\site-packages (from huggingface-hub<1.0,>=0.33.5->gradio) (4.66.4)\n",
      "Requirement already satisfied: python-dateutil>=2.8.2 in c:\\users\\acer\\anaconda3\\lib\\site-packages (from pandas<3.0,>=1.0->gradio) (2.9.0.post0)\n",
      "Requirement already satisfied: pytz>=2020.1 in c:\\users\\acer\\anaconda3\\lib\\site-packages (from pandas<3.0,>=1.0->gradio) (2024.1)\n",
      "Requirement already satisfied: tzdata>=2022.7 in c:\\users\\acer\\anaconda3\\lib\\site-packages (from pandas<3.0,>=1.0->gradio) (2023.3)\n",
      "Requirement already satisfied: annotated-types>=0.4.0 in c:\\users\\acer\\anaconda3\\lib\\site-packages (from pydantic<2.12,>=2.0->gradio) (0.6.0)\n",
      "Requirement already satisfied: pydantic-core==2.20.1 in c:\\users\\acer\\anaconda3\\lib\\site-packages (from pydantic<2.12,>=2.0->gradio) (2.20.1)\n",
      "Requirement already satisfied: click>=8.0.0 in c:\\users\\acer\\anaconda3\\lib\\site-packages (from typer<1.0,>=0.12->gradio) (8.1.7)\n",
      "Requirement already satisfied: shellingham>=1.3.0 in c:\\users\\acer\\anaconda3\\lib\\site-packages (from typer<1.0,>=0.12->gradio) (1.5.0)\n",
      "Requirement already satisfied: rich>=10.11.0 in c:\\users\\acer\\anaconda3\\lib\\site-packages (from typer<1.0,>=0.12->gradio) (13.3.5)\n",
      "Requirement already satisfied: colorama in c:\\users\\acer\\anaconda3\\lib\\site-packages (from click>=8.0.0->typer<1.0,>=0.12->gradio) (0.4.6)\n",
      "Requirement already satisfied: six>=1.5 in c:\\users\\acer\\anaconda3\\lib\\site-packages (from python-dateutil>=2.8.2->pandas<3.0,>=1.0->gradio) (1.16.0)\n",
      "Requirement already satisfied: markdown-it-py<3.0.0,>=2.2.0 in c:\\users\\acer\\anaconda3\\lib\\site-packages (from rich>=10.11.0->typer<1.0,>=0.12->gradio) (2.2.0)\n",
      "Requirement already satisfied: pygments<3.0.0,>=2.13.0 in c:\\users\\acer\\anaconda3\\lib\\site-packages (from rich>=10.11.0->typer<1.0,>=0.12->gradio) (2.15.1)\n",
      "Requirement already satisfied: charset-normalizer<4,>=2 in c:\\users\\acer\\anaconda3\\lib\\site-packages (from requests->huggingface-hub<1.0,>=0.33.5->gradio) (2.0.4)\n",
      "Requirement already satisfied: urllib3<3,>=1.21.1 in c:\\users\\acer\\anaconda3\\lib\\site-packages (from requests->huggingface-hub<1.0,>=0.33.5->gradio) (2.2.2)\n",
      "Requirement already satisfied: mdurl~=0.1 in c:\\users\\acer\\anaconda3\\lib\\site-packages (from markdown-it-py<3.0.0,>=2.2.0->rich>=10.11.0->typer<1.0,>=0.12->gradio) (0.1.0)\n",
      "Downloading gradio-5.44.1-py3-none-any.whl (60.2 MB)\n",
      "   ---------------------------------------- 0.0/60.2 MB ? eta -:--:--\n",
      "   ---------------------------------------- 0.0/60.2 MB ? eta -:--:--\n",
      "   ---------------------------------------- 0.2/60.2 MB 2.6 MB/s eta 0:00:23\n",
      "   ---------------------------------------- 0.3/60.2 MB 2.5 MB/s eta 0:00:25\n",
      "   ---------------------------------------- 0.6/60.2 MB 3.3 MB/s eta 0:00:18\n",
      "    --------------------------------------- 0.8/60.2 MB 3.6 MB/s eta 0:00:17\n",
      "    --------------------------------------- 1.1/60.2 MB 4.3 MB/s eta 0:00:14\n",
      "    --------------------------------------- 1.5/60.2 MB 4.7 MB/s eta 0:00:13\n",
      "   - -------------------------------------- 1.8/60.2 MB 4.9 MB/s eta 0:00:12\n",
      "   - -------------------------------------- 2.1/60.2 MB 5.2 MB/s eta 0:00:12\n",
      "   - -------------------------------------- 2.4/60.2 MB 5.2 MB/s eta 0:00:12\n",
      "   - -------------------------------------- 2.6/60.2 MB 5.2 MB/s eta 0:00:12\n",
      "   - -------------------------------------- 2.8/60.2 MB 5.3 MB/s eta 0:00:11\n",
      "   -- ------------------------------------- 3.2/60.2 MB 5.3 MB/s eta 0:00:11\n",
      "   -- ------------------------------------- 3.5/60.2 MB 5.4 MB/s eta 0:00:11\n",
      "   -- ------------------------------------- 3.8/60.2 MB 5.5 MB/s eta 0:00:11\n",
      "   -- ------------------------------------- 4.1/60.2 MB 5.6 MB/s eta 0:00:10\n",
      "   -- ------------------------------------- 4.3/60.2 MB 5.5 MB/s eta 0:00:11\n",
      "   --- ------------------------------------ 4.6/60.2 MB 5.6 MB/s eta 0:00:10\n",
      "   --- ------------------------------------ 4.9/60.2 MB 5.7 MB/s eta 0:00:10\n",
      "   --- ------------------------------------ 5.2/60.2 MB 5.7 MB/s eta 0:00:10\n",
      "   --- ------------------------------------ 5.5/60.2 MB 5.8 MB/s eta 0:00:10\n",
      "   --- ------------------------------------ 5.9/60.2 MB 5.9 MB/s eta 0:00:10\n",
      "   ---- ----------------------------------- 6.1/60.2 MB 5.9 MB/s eta 0:00:10\n",
      "   ---- ----------------------------------- 6.5/60.2 MB 5.9 MB/s eta 0:00:10\n",
      "   ---- ----------------------------------- 6.8/60.2 MB 6.0 MB/s eta 0:00:09\n",
      "   ---- ----------------------------------- 7.1/60.2 MB 6.0 MB/s eta 0:00:09\n",
      "   ---- ----------------------------------- 7.4/60.2 MB 6.0 MB/s eta 0:00:09\n",
      "   ----- ---------------------------------- 7.8/60.2 MB 6.1 MB/s eta 0:00:09\n",
      "   ----- ---------------------------------- 8.0/60.2 MB 6.1 MB/s eta 0:00:09\n",
      "   ----- ---------------------------------- 8.3/60.2 MB 6.0 MB/s eta 0:00:09\n",
      "   ----- ---------------------------------- 8.7/60.2 MB 6.1 MB/s eta 0:00:09\n",
      "   ----- ---------------------------------- 9.0/60.2 MB 6.1 MB/s eta 0:00:09\n",
      "   ------ --------------------------------- 9.3/60.2 MB 6.2 MB/s eta 0:00:09\n",
      "   ------ --------------------------------- 9.6/60.2 MB 6.2 MB/s eta 0:00:09\n",
      "   ------ --------------------------------- 10.0/60.2 MB 6.2 MB/s eta 0:00:09\n",
      "   ------ --------------------------------- 10.3/60.2 MB 6.4 MB/s eta 0:00:08\n",
      "   ------- -------------------------------- 10.7/60.2 MB 6.5 MB/s eta 0:00:08\n",
      "   ------- -------------------------------- 11.0/60.2 MB 6.7 MB/s eta 0:00:08\n",
      "   ------- -------------------------------- 11.3/60.2 MB 6.6 MB/s eta 0:00:08\n",
      "   ------- -------------------------------- 11.7/60.2 MB 6.7 MB/s eta 0:00:08\n",
      "   ------- -------------------------------- 12.0/60.2 MB 6.6 MB/s eta 0:00:08\n",
      "   -------- ------------------------------- 12.3/60.2 MB 6.6 MB/s eta 0:00:08\n",
      "   -------- ------------------------------- 12.6/60.2 MB 6.7 MB/s eta 0:00:08\n",
      "   -------- ------------------------------- 12.9/60.2 MB 6.7 MB/s eta 0:00:08\n",
      "   -------- ------------------------------- 13.2/60.2 MB 6.7 MB/s eta 0:00:07\n",
      "   --------- ------------------------------ 13.6/60.2 MB 6.7 MB/s eta 0:00:07\n",
      "   --------- ------------------------------ 13.9/60.2 MB 6.8 MB/s eta 0:00:07\n",
      "   --------- ------------------------------ 14.2/60.2 MB 6.7 MB/s eta 0:00:07\n",
      "   --------- ------------------------------ 14.6/60.2 MB 7.0 MB/s eta 0:00:07\n",
      "   --------- ------------------------------ 14.9/60.2 MB 6.9 MB/s eta 0:00:07\n",
      "   ---------- ----------------------------- 15.2/60.2 MB 7.0 MB/s eta 0:00:07\n",
      "   ---------- ----------------------------- 15.6/60.2 MB 7.0 MB/s eta 0:00:07\n",
      "   ---------- ----------------------------- 16.0/60.2 MB 7.0 MB/s eta 0:00:07\n",
      "   ---------- ----------------------------- 16.2/60.2 MB 7.0 MB/s eta 0:00:07\n",
      "   ----------- ---------------------------- 16.6/60.2 MB 7.0 MB/s eta 0:00:07\n",
      "   ----------- ---------------------------- 16.9/60.2 MB 7.0 MB/s eta 0:00:07\n",
      "   ----------- ---------------------------- 17.2/60.2 MB 7.0 MB/s eta 0:00:07\n",
      "   ----------- ---------------------------- 17.6/60.2 MB 7.0 MB/s eta 0:00:07\n",
      "   ----------- ---------------------------- 17.9/60.2 MB 7.0 MB/s eta 0:00:07\n",
      "   ------------ --------------------------- 18.2/60.2 MB 7.0 MB/s eta 0:00:06\n",
      "   ------------ --------------------------- 18.5/60.2 MB 7.1 MB/s eta 0:00:06\n",
      "   ------------ --------------------------- 18.9/60.2 MB 7.1 MB/s eta 0:00:06\n",
      "   ------------ --------------------------- 19.2/60.2 MB 7.1 MB/s eta 0:00:06\n",
      "   ------------- -------------------------- 19.6/60.2 MB 7.1 MB/s eta 0:00:06\n",
      "   ------------- -------------------------- 20.0/60.2 MB 7.1 MB/s eta 0:00:06\n",
      "   ------------- -------------------------- 20.3/60.2 MB 7.1 MB/s eta 0:00:06\n",
      "   ------------- -------------------------- 20.6/60.2 MB 7.1 MB/s eta 0:00:06\n",
      "   ------------- -------------------------- 21.0/60.2 MB 7.1 MB/s eta 0:00:06\n",
      "   -------------- ------------------------- 21.3/60.2 MB 7.0 MB/s eta 0:00:06\n",
      "   -------------- ------------------------- 21.6/60.2 MB 7.0 MB/s eta 0:00:06\n",
      "   -------------- ------------------------- 21.9/60.2 MB 7.0 MB/s eta 0:00:06\n",
      "   -------------- ------------------------- 22.2/60.2 MB 7.1 MB/s eta 0:00:06\n",
      "   -------------- ------------------------- 22.6/60.2 MB 7.1 MB/s eta 0:00:06\n",
      "   --------------- ------------------------ 22.9/60.2 MB 7.1 MB/s eta 0:00:06\n",
      "   --------------- ------------------------ 23.2/60.2 MB 7.1 MB/s eta 0:00:06\n",
      "   --------------- ------------------------ 23.5/60.2 MB 7.1 MB/s eta 0:00:06\n",
      "   --------------- ------------------------ 23.9/60.2 MB 7.0 MB/s eta 0:00:06\n",
      "   ---------------- ----------------------- 24.2/60.2 MB 7.1 MB/s eta 0:00:06\n",
      "   ---------------- ----------------------- 24.5/60.2 MB 7.1 MB/s eta 0:00:06\n",
      "   ---------------- ----------------------- 24.8/60.2 MB 7.1 MB/s eta 0:00:05\n",
      "   ---------------- ----------------------- 25.2/60.2 MB 7.1 MB/s eta 0:00:05\n",
      "   ---------------- ----------------------- 25.5/60.2 MB 7.1 MB/s eta 0:00:05\n",
      "   ----------------- ---------------------- 25.8/60.2 MB 7.0 MB/s eta 0:00:05\n",
      "   ----------------- ---------------------- 26.1/60.2 MB 7.0 MB/s eta 0:00:05\n",
      "   ----------------- ---------------------- 26.4/60.2 MB 7.0 MB/s eta 0:00:05\n",
      "   ----------------- ---------------------- 26.7/60.2 MB 7.0 MB/s eta 0:00:05\n",
      "   ----------------- ---------------------- 27.1/60.2 MB 7.0 MB/s eta 0:00:05\n",
      "   ------------------ --------------------- 27.4/60.2 MB 7.0 MB/s eta 0:00:05\n",
      "   ------------------ --------------------- 27.7/60.2 MB 7.0 MB/s eta 0:00:05\n",
      "   ------------------ --------------------- 28.1/60.2 MB 7.1 MB/s eta 0:00:05\n",
      "   ------------------ --------------------- 28.4/60.2 MB 7.1 MB/s eta 0:00:05\n",
      "   ------------------- -------------------- 28.8/60.2 MB 7.1 MB/s eta 0:00:05\n",
      "   ------------------- -------------------- 29.1/60.2 MB 7.1 MB/s eta 0:00:05\n",
      "   ------------------- -------------------- 29.4/60.2 MB 7.1 MB/s eta 0:00:05\n",
      "   ------------------- -------------------- 29.7/60.2 MB 7.1 MB/s eta 0:00:05\n",
      "   ------------------- -------------------- 30.1/60.2 MB 7.0 MB/s eta 0:00:05\n",
      "   -------------------- ------------------- 30.4/60.2 MB 7.1 MB/s eta 0:00:05\n",
      "   -------------------- ------------------- 30.7/60.2 MB 7.0 MB/s eta 0:00:05\n",
      "   -------------------- ------------------- 31.1/60.2 MB 7.1 MB/s eta 0:00:05\n",
      "   -------------------- ------------------- 31.4/60.2 MB 7.2 MB/s eta 0:00:04\n",
      "   --------------------- ------------------ 31.8/60.2 MB 7.2 MB/s eta 0:00:04\n",
      "   --------------------- ------------------ 32.1/60.2 MB 7.1 MB/s eta 0:00:04\n",
      "   --------------------- ------------------ 32.5/60.2 MB 7.2 MB/s eta 0:00:04\n",
      "   --------------------- ------------------ 32.7/60.2 MB 7.1 MB/s eta 0:00:04\n",
      "   --------------------- ------------------ 33.1/60.2 MB 7.2 MB/s eta 0:00:04\n",
      "   ---------------------- ----------------- 33.4/60.2 MB 7.2 MB/s eta 0:00:04\n",
      "   ---------------------- ----------------- 33.7/60.2 MB 7.1 MB/s eta 0:00:04\n",
      "   ---------------------- ----------------- 34.1/60.2 MB 7.1 MB/s eta 0:00:04\n",
      "   ---------------------- ----------------- 34.4/60.2 MB 7.1 MB/s eta 0:00:04\n",
      "   ----------------------- ---------------- 34.7/60.2 MB 7.1 MB/s eta 0:00:04\n",
      "   ----------------------- ---------------- 35.0/60.2 MB 7.1 MB/s eta 0:00:04\n",
      "   ----------------------- ---------------- 35.3/60.2 MB 7.1 MB/s eta 0:00:04\n",
      "   ----------------------- ---------------- 35.7/60.2 MB 7.2 MB/s eta 0:00:04\n",
      "   ----------------------- ---------------- 36.0/60.2 MB 7.2 MB/s eta 0:00:04\n",
      "   ------------------------ --------------- 36.3/60.2 MB 7.2 MB/s eta 0:00:04\n",
      "   ------------------------ --------------- 36.6/60.2 MB 7.2 MB/s eta 0:00:04\n",
      "   ------------------------ --------------- 37.0/60.2 MB 7.2 MB/s eta 0:00:04\n",
      "   ------------------------ --------------- 37.3/60.2 MB 7.2 MB/s eta 0:00:04\n",
      "   ------------------------- -------------- 37.7/60.2 MB 7.2 MB/s eta 0:00:04\n",
      "   ------------------------- -------------- 38.0/60.2 MB 7.2 MB/s eta 0:00:04\n",
      "   ------------------------- -------------- 38.3/60.2 MB 7.2 MB/s eta 0:00:04\n",
      "   ------------------------- -------------- 38.7/60.2 MB 7.2 MB/s eta 0:00:03\n",
      "   ------------------------- -------------- 39.0/60.2 MB 7.2 MB/s eta 0:00:03\n",
      "   -------------------------- ------------- 39.4/60.2 MB 7.2 MB/s eta 0:00:03\n",
      "   -------------------------- ------------- 39.7/60.2 MB 7.2 MB/s eta 0:00:03\n",
      "   -------------------------- ------------- 40.0/60.2 MB 7.2 MB/s eta 0:00:03\n",
      "   -------------------------- ------------- 40.3/60.2 MB 7.2 MB/s eta 0:00:03\n",
      "   --------------------------- ------------ 40.7/60.2 MB 7.2 MB/s eta 0:00:03\n",
      "   --------------------------- ------------ 41.0/60.2 MB 7.2 MB/s eta 0:00:03\n",
      "   --------------------------- ------------ 41.4/60.2 MB 7.2 MB/s eta 0:00:03\n",
      "   --------------------------- ------------ 41.7/60.2 MB 7.2 MB/s eta 0:00:03\n",
      "   --------------------------- ------------ 42.1/60.2 MB 7.2 MB/s eta 0:00:03\n",
      "   ---------------------------- ----------- 42.4/60.2 MB 7.2 MB/s eta 0:00:03\n",
      "   ---------------------------- ----------- 42.7/60.2 MB 7.2 MB/s eta 0:00:03\n",
      "   ---------------------------- ----------- 43.0/60.2 MB 7.2 MB/s eta 0:00:03\n",
      "   ---------------------------- ----------- 43.4/60.2 MB 7.2 MB/s eta 0:00:03\n",
      "   ----------------------------- ---------- 43.7/60.2 MB 7.2 MB/s eta 0:00:03\n",
      "   ----------------------------- ---------- 44.0/60.2 MB 7.1 MB/s eta 0:00:03\n",
      "   ----------------------------- ---------- 44.3/60.2 MB 7.1 MB/s eta 0:00:03\n",
      "   ----------------------------- ---------- 44.6/60.2 MB 7.1 MB/s eta 0:00:03\n",
      "   ----------------------------- ---------- 45.0/60.2 MB 7.2 MB/s eta 0:00:03\n",
      "   ------------------------------ --------- 45.3/60.2 MB 7.1 MB/s eta 0:00:03\n",
      "   ------------------------------ --------- 45.6/60.2 MB 7.1 MB/s eta 0:00:03\n",
      "   ------------------------------ --------- 45.9/60.2 MB 7.1 MB/s eta 0:00:03\n",
      "   ------------------------------ --------- 46.3/60.2 MB 7.2 MB/s eta 0:00:02\n",
      "   ------------------------------ --------- 46.6/60.2 MB 7.2 MB/s eta 0:00:02\n",
      "   ------------------------------- -------- 46.8/60.2 MB 7.1 MB/s eta 0:00:02\n",
      "   ------------------------------- -------- 47.2/60.2 MB 7.1 MB/s eta 0:00:02\n",
      "   ------------------------------- -------- 47.5/60.2 MB 7.1 MB/s eta 0:00:02\n",
      "   ------------------------------- -------- 47.8/60.2 MB 7.1 MB/s eta 0:00:02\n",
      "   ------------------------------- -------- 48.1/60.2 MB 7.1 MB/s eta 0:00:02\n",
      "   -------------------------------- ------- 48.4/60.2 MB 7.1 MB/s eta 0:00:02\n",
      "   -------------------------------- ------- 48.8/60.2 MB 7.1 MB/s eta 0:00:02\n",
      "   -------------------------------- ------- 49.2/60.2 MB 7.0 MB/s eta 0:00:02\n",
      "   -------------------------------- ------- 49.5/60.2 MB 7.0 MB/s eta 0:00:02\n",
      "   --------------------------------- ------ 49.8/60.2 MB 7.0 MB/s eta 0:00:02\n",
      "   --------------------------------- ------ 50.2/60.2 MB 7.1 MB/s eta 0:00:02\n",
      "   --------------------------------- ------ 50.5/60.2 MB 7.1 MB/s eta 0:00:02\n",
      "   --------------------------------- ------ 50.9/60.2 MB 7.1 MB/s eta 0:00:02\n",
      "   ---------------------------------- ----- 51.2/60.2 MB 7.1 MB/s eta 0:00:02\n",
      "   ---------------------------------- ----- 51.6/60.2 MB 7.0 MB/s eta 0:00:02\n",
      "   ---------------------------------- ----- 51.9/60.2 MB 7.1 MB/s eta 0:00:02\n",
      "   ---------------------------------- ----- 52.3/60.2 MB 7.1 MB/s eta 0:00:02\n",
      "   ---------------------------------- ----- 52.6/60.2 MB 7.2 MB/s eta 0:00:02\n",
      "   ----------------------------------- ---- 52.9/60.2 MB 7.1 MB/s eta 0:00:02\n",
      "   ----------------------------------- ---- 53.2/60.2 MB 7.1 MB/s eta 0:00:01\n",
      "   ----------------------------------- ---- 53.6/60.2 MB 7.1 MB/s eta 0:00:01\n",
      "   ----------------------------------- ---- 53.9/60.2 MB 7.2 MB/s eta 0:00:01\n",
      "   ----------------------------------- ---- 54.2/60.2 MB 7.1 MB/s eta 0:00:01\n",
      "   ------------------------------------ --- 54.5/60.2 MB 7.2 MB/s eta 0:00:01\n",
      "   ------------------------------------ --- 54.9/60.2 MB 7.2 MB/s eta 0:00:01\n",
      "   ------------------------------------ --- 55.2/60.2 MB 7.1 MB/s eta 0:00:01\n",
      "   ------------------------------------ --- 55.5/60.2 MB 7.1 MB/s eta 0:00:01\n",
      "   ------------------------------------- -- 55.8/60.2 MB 7.1 MB/s eta 0:00:01\n",
      "   ------------------------------------- -- 56.1/60.2 MB 7.1 MB/s eta 0:00:01\n",
      "   ------------------------------------- -- 56.4/60.2 MB 7.1 MB/s eta 0:00:01\n",
      "   ------------------------------------- -- 56.7/60.2 MB 7.0 MB/s eta 0:00:01\n",
      "   ------------------------------------- -- 57.0/60.2 MB 7.0 MB/s eta 0:00:01\n",
      "   -------------------------------------- - 57.3/60.2 MB 7.1 MB/s eta 0:00:01\n",
      "   -------------------------------------- - 57.7/60.2 MB 7.1 MB/s eta 0:00:01\n",
      "   -------------------------------------- - 58.0/60.2 MB 7.0 MB/s eta 0:00:01\n",
      "   -------------------------------------- - 58.3/60.2 MB 7.1 MB/s eta 0:00:01\n",
      "   -------------------------------------- - 58.7/60.2 MB 7.1 MB/s eta 0:00:01\n",
      "   ---------------------------------------  59.0/60.2 MB 7.0 MB/s eta 0:00:01\n",
      "   ---------------------------------------  59.3/60.2 MB 7.0 MB/s eta 0:00:01\n",
      "   ---------------------------------------  59.6/60.2 MB 7.0 MB/s eta 0:00:01\n",
      "   ---------------------------------------  59.9/60.2 MB 7.0 MB/s eta 0:00:01\n",
      "   ---------------------------------------  60.2/60.2 MB 7.0 MB/s eta 0:00:01\n",
      "   ---------------------------------------  60.2/60.2 MB 7.0 MB/s eta 0:00:01\n",
      "   ---------------------------------------  60.2/60.2 MB 7.0 MB/s eta 0:00:01\n",
      "   ---------------------------------------  60.2/60.2 MB 7.0 MB/s eta 0:00:01\n",
      "   ---------------------------------------  60.2/60.2 MB 7.0 MB/s eta 0:00:01\n",
      "   ---------------------------------------  60.2/60.2 MB 7.0 MB/s eta 0:00:01\n",
      "   ---------------------------------------- 60.2/60.2 MB 5.9 MB/s eta 0:00:00\n",
      "Downloading gradio_client-1.12.1-py3-none-any.whl (324 kB)\n",
      "   ---------------------------------------- 0.0/324.6 kB ? eta -:--:--\n",
      "   ------------------------------- -------- 256.0/324.6 kB 7.7 MB/s eta 0:00:01\n",
      "   ---------------------------------------- 324.6/324.6 kB 6.7 MB/s eta 0:00:00\n",
      "Downloading aiofiles-24.1.0-py3-none-any.whl (15 kB)\n",
      "Downloading Brotli-1.1.0-cp312-cp312-win_amd64.whl (357 kB)\n",
      "   ---------------------------------------- 0.0/357.3 kB ? eta -:--:--\n",
      "   ---------------------------- ----------- 256.0/357.3 kB 7.7 MB/s eta 0:00:01\n",
      "   ---------------------------------------- 357.3/357.3 kB 5.5 MB/s eta 0:00:00\n",
      "Downloading fastapi-0.116.1-py3-none-any.whl (95 kB)\n",
      "   ---------------------------------------- 0.0/95.6 kB ? eta -:--:--\n",
      "   ---------------------------------------- 95.6/95.6 kB 5.7 MB/s eta 0:00:00\n",
      "Downloading groovy-0.1.2-py3-none-any.whl (14 kB)\n",
      "Downloading huggingface_hub-0.34.4-py3-none-any.whl (561 kB)\n",
      "   ---------------------------------------- 0.0/561.5 kB ? eta -:--:--\n",
      "   ------------------- -------------------- 276.5/561.5 kB 8.3 MB/s eta 0:00:01\n",
      "   ---------------------------------------- 561.5/561.5 kB 7.1 MB/s eta 0:00:00\n",
      "Downloading orjson-3.11.3-cp312-cp312-win_amd64.whl (131 kB)\n",
      "   ---------------------------------------- 0.0/131.4 kB ? eta -:--:--\n",
      "   ---------------------------------------- 131.4/131.4 kB 7.6 MB/s eta 0:00:00\n",
      "Downloading python_multipart-0.0.20-py3-none-any.whl (24 kB)\n",
      "Downloading ruff-0.12.12-py3-none-win_amd64.whl (13.2 MB)\n",
      "   ---------------------------------------- 0.0/13.2 MB ? eta -:--:--\n",
      "    --------------------------------------- 0.3/13.2 MB 9.6 MB/s eta 0:00:02\n",
      "   - -------------------------------------- 0.6/13.2 MB 7.4 MB/s eta 0:00:02\n",
      "   -- ------------------------------------- 0.9/13.2 MB 7.4 MB/s eta 0:00:02\n",
      "   --- ------------------------------------ 1.3/13.2 MB 7.5 MB/s eta 0:00:02\n",
      "   ---- ----------------------------------- 1.6/13.2 MB 7.2 MB/s eta 0:00:02\n",
      "   ----- ---------------------------------- 1.9/13.2 MB 7.0 MB/s eta 0:00:02\n",
      "   ------ --------------------------------- 2.1/13.2 MB 7.0 MB/s eta 0:00:02\n",
      "   ------- -------------------------------- 2.5/13.2 MB 6.8 MB/s eta 0:00:02\n",
      "   -------- ------------------------------- 2.8/13.2 MB 6.8 MB/s eta 0:00:02\n",
      "   --------- ------------------------------ 3.1/13.2 MB 6.7 MB/s eta 0:00:02\n",
      "   ---------- ----------------------------- 3.4/13.2 MB 6.9 MB/s eta 0:00:02\n",
      "   ----------- ---------------------------- 3.8/13.2 MB 6.9 MB/s eta 0:00:02\n",
      "   ------------ --------------------------- 4.1/13.2 MB 7.0 MB/s eta 0:00:02\n",
      "   ------------- -------------------------- 4.5/13.2 MB 7.0 MB/s eta 0:00:02\n",
      "   -------------- ------------------------- 4.8/13.2 MB 6.9 MB/s eta 0:00:02\n",
      "   --------------- ------------------------ 5.0/13.2 MB 6.8 MB/s eta 0:00:02\n",
      "   ---------------- ----------------------- 5.4/13.2 MB 6.8 MB/s eta 0:00:02\n",
      "   ----------------- ---------------------- 5.7/13.2 MB 7.0 MB/s eta 0:00:02\n",
      "   ------------------ --------------------- 6.0/13.2 MB 6.9 MB/s eta 0:00:02\n",
      "   ------------------- -------------------- 6.3/13.2 MB 6.8 MB/s eta 0:00:02\n",
      "   ------------------- -------------------- 6.6/13.2 MB 6.9 MB/s eta 0:00:01\n",
      "   -------------------- ------------------- 6.9/13.2 MB 6.9 MB/s eta 0:00:01\n",
      "   --------------------- ------------------ 7.1/13.2 MB 6.8 MB/s eta 0:00:01\n",
      "   ---------------------- ----------------- 7.5/13.2 MB 6.8 MB/s eta 0:00:01\n",
      "   ----------------------- ---------------- 7.8/13.2 MB 6.8 MB/s eta 0:00:01\n",
      "   ------------------------ --------------- 8.1/13.2 MB 6.8 MB/s eta 0:00:01\n",
      "   ------------------------- -------------- 8.4/13.2 MB 6.8 MB/s eta 0:00:01\n",
      "   -------------------------- ------------- 8.8/13.2 MB 6.9 MB/s eta 0:00:01\n",
      "   --------------------------- ------------ 9.1/13.2 MB 6.8 MB/s eta 0:00:01\n",
      "   ---------------------------- ----------- 9.4/13.2 MB 6.8 MB/s eta 0:00:01\n",
      "   ----------------------------- ---------- 9.8/13.2 MB 6.9 MB/s eta 0:00:01\n",
      "   ------------------------------ --------- 10.1/13.2 MB 6.8 MB/s eta 0:00:01\n",
      "   ------------------------------- -------- 10.4/13.2 MB 6.8 MB/s eta 0:00:01\n",
      "   -------------------------------- ------- 10.8/13.2 MB 6.9 MB/s eta 0:00:01\n",
      "   --------------------------------- ------ 11.1/13.2 MB 6.9 MB/s eta 0:00:01\n",
      "   ---------------------------------- ----- 11.4/13.2 MB 6.8 MB/s eta 0:00:01\n",
      "   ----------------------------------- ---- 11.8/13.2 MB 6.9 MB/s eta 0:00:01\n",
      "   ------------------------------------ --- 12.2/13.2 MB 6.9 MB/s eta 0:00:01\n",
      "   -------------------------------------- - 12.5/13.2 MB 7.0 MB/s eta 0:00:01\n",
      "   ---------------------------------------  12.9/13.2 MB 7.0 MB/s eta 0:00:01\n",
      "   ---------------------------------------  13.2/13.2 MB 7.0 MB/s eta 0:00:01\n",
      "   ---------------------------------------- 13.2/13.2 MB 6.9 MB/s eta 0:00:00\n",
      "Downloading safehttpx-0.1.6-py3-none-any.whl (8.7 kB)\n",
      "Downloading semantic_version-2.10.0-py2.py3-none-any.whl (15 kB)\n",
      "Downloading starlette-0.47.3-py3-none-any.whl (72 kB)\n",
      "   ---------------------------------------- 0.0/73.0 kB ? eta -:--:--\n",
      "   ---------------------------------------- 73.0/73.0 kB 4.2 MB/s eta 0:00:00\n",
      "Downloading tomlkit-0.13.3-py3-none-any.whl (38 kB)\n",
      "Downloading typer-0.17.3-py3-none-any.whl (46 kB)\n",
      "   ---------------------------------------- 0.0/46.5 kB ? eta -:--:--\n",
      "   ---------------------------------------- 46.5/46.5 kB 2.4 MB/s eta 0:00:00\n",
      "Downloading uvicorn-0.35.0-py3-none-any.whl (66 kB)\n",
      "   ---------------------------------------- 0.0/66.4 kB ? eta -:--:--\n",
      "   ---------------------------------------- 66.4/66.4 kB 3.5 MB/s eta 0:00:00\n",
      "Downloading ffmpy-0.6.1-py3-none-any.whl (5.5 kB)\n",
      "Downloading pydub-0.25.1-py2.py3-none-any.whl (32 kB)\n",
      "Downloading websockets-15.0.1-cp312-cp312-win_amd64.whl (176 kB)\n",
      "   ---------------------------------------- 0.0/176.8 kB ? eta -:--:--\n",
      "   --------------------------------------- 176.8/176.8 kB 10.4 MB/s eta 0:00:00\n",
      "Installing collected packages: pydub, brotli, websockets, tomlkit, semantic-version, ruff, python-multipart, orjson, groovy, ffmpy, aiofiles, uvicorn, starlette, huggingface-hub, typer, safehttpx, gradio-client, fastapi, gradio\n",
      "  Attempting uninstall: brotli\n",
      "    Found existing installation: Brotli 1.0.9\n",
      "    Uninstalling Brotli-1.0.9:\n",
      "      Successfully uninstalled Brotli-1.0.9\n",
      "  Attempting uninstall: tomlkit\n",
      "    Found existing installation: tomlkit 0.11.1\n",
      "    Uninstalling tomlkit-0.11.1:\n",
      "      Successfully uninstalled tomlkit-0.11.1\n",
      "  Attempting uninstall: typer\n",
      "    Found existing installation: typer 0.9.0\n",
      "    Uninstalling typer-0.9.0:\n",
      "      Successfully uninstalled typer-0.9.0\n",
      "Successfully installed aiofiles-24.1.0 brotli-1.1.0 fastapi-0.116.1 ffmpy-0.6.1 gradio-5.44.1 gradio-client-1.12.1 groovy-0.1.2 huggingface-hub-0.34.4 orjson-3.11.3 pydub-0.25.1 python-multipart-0.0.20 ruff-0.12.12 safehttpx-0.1.6 semantic-version-2.10.0 starlette-0.47.3 tomlkit-0.13.3 typer-0.17.3 uvicorn-0.35.0 websockets-15.0.1\n"
     ]
    },
    {
     "name": "stderr",
     "output_type": "stream",
     "text": [
      "  WARNING: Failed to remove contents in a temporary directory 'C:\\Users\\acer\\AppData\\Local\\Temp\\pip-uninstall-w37lzlkk'.\n",
      "  You can safely remove it manually.\n"
     ]
    }
   ],
   "source": [
    "!pip install -q --upgrade openai python-dotenv\n",
    "# Install library for UI implement\n",
    "!pip install gradio"
   ]
  },
  {
   "cell_type": "code",
   "execution_count": 2,
   "outputs": [
    {
     "name": "stdout",
     "output_type": "stream",
     "text": [
      "OpenAI API key loaded successfully\n",
      "Key starts wit: sk-pr\n",
      "OpenAI client configured\n"
     ]
    }
   ],
   "source": [
    "import os\n",
    "from IPython.display import display, Markdown\n",
    "from openai import OpenAI\n",
    "from dotenv import load_dotenv\n",
    "\n",
    "load_dotenv()\n",
    "\n",
    "open_api_key = os.getenv(\"OPENAI_API_KEY\")\n",
    "print(\"OpenAI API key loaded successfully\")\n",
    "print(f\"Key starts wit: {open_api_key[:5]}\")\n",
    "\n",
    "openai_client = OpenAI(api_key=open_api_key)\n",
    "print(\"OpenAI client configured\")"
   ],
   "metadata": {
    "collapsed": false,
    "ExecuteTime": {
     "end_time": "2025-09-06T03:20:00.550727400Z",
     "start_time": "2025-09-06T03:19:54.799968Z"
    }
   }
  },
  {
   "cell_type": "code",
   "execution_count": 3,
   "outputs": [],
   "source": [
    "# Define a helper function to display markdown nicely\n",
    "def print_markdown(text):\n",
    "    \"\"\"Displays text as Markdown in Jupyter.\"\"\"\n",
    "    display(Markdown(text))"
   ],
   "metadata": {
    "collapsed": false,
    "ExecuteTime": {
     "end_time": "2025-09-06T09:24:30.851810100Z",
     "start_time": "2025-09-06T09:24:30.533617500Z"
    }
   }
  },
  {
   "cell_type": "code",
   "execution_count": 3,
   "outputs": [],
   "source": [],
   "metadata": {
    "collapsed": false,
    "ExecuteTime": {
     "end_time": "2025-09-06T09:24:30.858811300Z",
     "start_time": "2025-09-06T09:24:30.855815800Z"
    }
   }
  },
  {
   "cell_type": "code",
   "execution_count": 4,
   "outputs": [],
   "source": [
    "# Let's define the Python function to get a response from the AI Tutor\n",
    "def get_ai_tutor_response(user_question):\n",
    "    \"\"\"\n",
    "    Sends a question to the OpenAI API, asking it to respond as an AI Tutor.\n",
    "\n",
    "    Args:\n",
    "        user_question (str): The question asked by the user.\n",
    "\n",
    "    Returns:\n",
    "        str: The AI's response, or an error message.\n",
    "    \"\"\"\n",
    "    # Define the system prompt - instructions for the AI's personality and role\n",
    "    system_prompt = \"You are a helpful and patient AI Tutor. Explain concepts clearly and concisely.\"\n",
    "\n",
    "    try:\n",
    "        # Make the API call to OpenAI\n",
    "        response = openai_client.chat.completions.create(\n",
    "            model = \"gpt-4o-mini\",  # A fast and capable model suitable for tutoring\n",
    "            messages = [{\"role\": \"system\", \"content\": system_prompt}, {\"role\": \"user\", \"content\": user_question}],\n",
    "            temperature = 0.7,  # Allows for some creativity but keeps responses focused\n",
    "        )\n",
    "        # Extract the answer content\n",
    "        ai_response = response.choices[0].message.content\n",
    "        return ai_response\n",
    "\n",
    "    except Exception as e:\n",
    "        # Handle potential errors during the API call\n",
    "        print(f\"An error occurred: {e}\")\n",
    "        return f\"Sorry, I encountered an error trying to get an answer: {e}\""
   ],
   "metadata": {
    "collapsed": false,
    "ExecuteTime": {
     "end_time": "2025-09-06T09:24:56.545101900Z",
     "start_time": "2025-09-06T09:24:56.520587100Z"
    }
   }
  },
  {
   "cell_type": "code",
   "execution_count": 5,
   "outputs": [
    {
     "data": {
      "text/plain": "<IPython.core.display.Markdown object>",
      "text/markdown": "Asking the AI Tutor: 'Could you explain the concept of functions in Python and their purpose in programming?'"
     },
     "metadata": {},
     "output_type": "display_data"
    },
    {
     "data": {
      "text/plain": "<IPython.core.display.Markdown object>",
      "text/markdown": "\n🤖 AI Tutor's Response:\n"
     },
     "metadata": {},
     "output_type": "display_data"
    },
    {
     "data": {
      "text/plain": "<IPython.core.display.Markdown object>",
      "text/markdown": "Certainly! In Python, a function is a reusable block of code that performs a specific task. Functions help organize code into manageable sections, making it easier to read, maintain, and debug. Here are the key concepts related to functions in Python:\n\n### 1. Definition of a Function\nA function is defined using the `def` keyword, followed by the function name and parentheses. Inside the parentheses, you can specify parameters, which are inputs to the function.\n\n**Example:**\n```python\ndef greet(name):\n    print(f\"Hello, {name}!\")\n```\n\n### 2. Purpose of Functions\n- **Reusability:** Functions allow you to write code once and use it multiple times. This avoids code duplication.\n- **Modularity:** Functions break down complex problems into smaller, manageable pieces. Each function can focus on a specific task.\n- **Readability:** Well-named functions can make your code more understandable, as they describe what the code does.\n- **Maintainability:** If you need to change the behavior of a specific task, you only need to update the code in one place.\n\n### 3. Calling a Function\nTo use a function, you call it by its name followed by parentheses. If the function takes parameters, you pass the arguments inside the parentheses.\n\n**Example:**\n```python\ngreet(\"Alice\")  # Output: Hello, Alice!\n```\n\n### 4. Return Values\nFunctions can return values using the `return` statement. This allows you to capture the output of a function.\n\n**Example:**\n```python\ndef add(a, b):\n    return a + b\n\nresult = add(3, 5)  # result will be 8\n```\n\n### 5. Parameters and Arguments\n- **Parameters** are the variables listed inside the parentheses in the function definition. \n- **Arguments** are the actual values you pass to the function when you call it.\n\n### 6. Default Parameters\nYou can provide default values for parameters. If the caller does not provide an argument for that parameter, the default value is used.\n\n**Example:**\n```python\ndef greet(name=\"World\"):\n    print(f\"Hello, {name}!\")\n\ngreet()          # Output: Hello, World!\ngreet(\"Alice\")  # Output: Hello, Alice!\n```\n\n### 7. Variable Scope\nVariables defined inside a function are local to that function and cannot be accessed outside of it. This helps avoid naming conflicts.\n\n### Conclusion\nFunctions are a fundamental concept in Python and programming in general. They promote code organization, reusability, and clarity, making your programs easier to write and maintain. By using functions effectively, you can create more structured and efficient code."
     },
     "metadata": {},
     "output_type": "display_data"
    }
   ],
   "source": [
    "# Let's test our function with a sample question\n",
    "test_question = \"Could you explain the concept of functions in Python and their purpose in programming?\"\n",
    "print_markdown(f\"Asking the AI Tutor: '{test_question}'\")\n",
    "\n",
    "# Call the function and store the response\n",
    "tutor_answer = get_ai_tutor_response(test_question)\n",
    "\n",
    "# Print the AI's response\n",
    "print_markdown(\"\\n🤖 AI Tutor's Response:\\n\")\n",
    "print_markdown(tutor_answer)"
   ],
   "metadata": {
    "collapsed": false,
    "ExecuteTime": {
     "end_time": "2025-09-06T09:25:48.039469900Z",
     "start_time": "2025-09-06T09:25:37.465956Z"
    }
   }
  },
  {
   "cell_type": "code",
   "execution_count": 6,
   "outputs": [],
   "source": [
    "# Import Gradio\n",
    "import gradio as gr"
   ],
   "metadata": {
    "collapsed": false,
    "ExecuteTime": {
     "end_time": "2025-09-06T09:26:53.188982500Z",
     "start_time": "2025-09-06T09:26:34.699809800Z"
    }
   }
  },
  {
   "cell_type": "code",
   "execution_count": 7,
   "outputs": [
    {
     "name": "stderr",
     "output_type": "stream",
     "text": [
      "C:\\Users\\acer\\anaconda3\\Lib\\site-packages\\gradio\\interface.py:414: UserWarning: The `allow_flagging` parameter in `Interface` is deprecated. Use `flagging_mode` instead.\n",
      "  warnings.warn(\n"
     ]
    },
    {
     "name": "stdout",
     "output_type": "stream",
     "text": [
      "Launching Gradio Interface...\n",
      "* Running on local URL:  http://127.0.0.1:7860\n",
      "* To create a public link, set `share=True` in `launch()`.\n"
     ]
    },
    {
     "data": {
      "text/plain": "<IPython.core.display.HTML object>",
      "text/html": "<div><iframe src=\"http://127.0.0.1:7860/\" width=\"100%\" height=\"500\" allow=\"autoplay; camera; microphone; clipboard-read; clipboard-write;\" frameborder=\"0\" allowfullscreen></iframe></div>"
     },
     "metadata": {},
     "output_type": "display_data"
    },
    {
     "data": {
      "text/plain": ""
     },
     "execution_count": 7,
     "metadata": {},
     "output_type": "execute_result"
    }
   ],
   "source": [
    "# Let's define the Gradio interface\n",
    "# fn: The function to wrap (our AI tutor function)\n",
    "# inputs: A component for the user to type their question\n",
    "# outputs: A component to display the AI's answer\n",
    "# title/description: Text for the UI heading\n",
    "ai_tutor_interface_simple = gr.Interface(\n",
    "    fn = get_ai_tutor_response,\n",
    "    inputs = gr.Textbox(lines = 2, placeholder = \"Ask the AI Tutor anything...\", label = \"Your Question\"),\n",
    "    outputs = gr.Textbox(label = \"AI Tutor's Answer\"),\n",
    "    title = \"🤖 Simple AI Tutor\",\n",
    "    description = \"Enter your question below and the AI Tutor will provide an explanation. Powered by OpenAI.\",\n",
    "    allow_flagging = \"never\",  # Disables the flagging feature for simplicity\n",
    ")\n",
    "\n",
    "# Launch the interface!\n",
    "# This will typically create a link (or display inline in environments like Google Colab/Jupyter)\n",
    "# You can interact with this UI directly.\n",
    "print(\"Launching Gradio Interface...\")\n",
    "ai_tutor_interface_simple.launch()"
   ],
   "metadata": {
    "collapsed": false,
    "ExecuteTime": {
     "end_time": "2025-09-06T09:27:08.187979Z",
     "start_time": "2025-09-06T09:27:05.318268900Z"
    }
   }
  },
  {
   "cell_type": "code",
   "execution_count": 8,
   "outputs": [],
   "source": [
    "# Define the mapping for explanation levels\n",
    "explanation_levels = {\n",
    "    1: \"like I'm 5 years old\",\n",
    "    2: \"like I'm 10 years old\",\n",
    "    3: \"like a high school student\",\n",
    "    4: \"like a college student\",\n",
    "    5: \"like an expert in the field\",\n",
    "}"
   ],
   "metadata": {
    "collapsed": false,
    "ExecuteTime": {
     "end_time": "2025-09-06T09:28:20.086437Z",
     "start_time": "2025-09-06T09:28:20.028956500Z"
    }
   }
  },
  {
   "cell_type": "code",
   "execution_count": 9,
   "outputs": [],
   "source": [
    "# Create a new function that accepts question and level and streams the response\n",
    "def stream_ai_tutor_response_with_level(user_question, explanation_level_value):\n",
    "    \"\"\"\n",
    "    Streams AI Tutor response based on user question and selected explanation level.\n",
    "\n",
    "    Args:\n",
    "        user_question (str): The question from the user.\n",
    "        explanation_level_value (int): The value from the slider (1-5).\n",
    "\n",
    "    Yields:\n",
    "        str: Chunks of the AI's response.\n",
    "    \"\"\"\n",
    "\n",
    "    # Get the descriptive text for the chosen level\n",
    "    level_description = explanation_levels.get(\n",
    "        explanation_level_value, \"clearly and concisely\"\n",
    "    )  # Default if level not found\n",
    "\n",
    "    # Construct the system prompt dynamically based on the level\n",
    "    system_prompt = f\"You are a helpful AI Tutor. Explain the following concept {level_description}.\"\n",
    "\n",
    "    print(f\"DEBUG: Using System Prompt: '{system_prompt}'\")  # For checking\n",
    "\n",
    "    try:\n",
    "        stream = openai_client.chat.completions.create(\n",
    "            model = \"gpt-4o-mini\",\n",
    "            messages = [{\"role\": \"system\", \"content\": system_prompt}, {\"role\": \"user\", \"content\": user_question}],\n",
    "            temperature = 0.7,\n",
    "            stream = True,\n",
    "        )\n",
    "\n",
    "        # Iterate through the response chunks\n",
    "        full_response = \"\"  # Keep track of the full response if needed later\n",
    "\n",
    "        # Loop through each chunk of the response as it arrives\n",
    "        for chunk in stream:\n",
    "            # Check if this chunk contains actual text content\n",
    "            if chunk.choices[0].delta and chunk.choices[0].delta.content:\n",
    "                # Extract the text from this chunk\n",
    "                text_chunk = chunk.choices[0].delta.content\n",
    "                # Add this chunk to our growing response\n",
    "                full_response += text_chunk\n",
    "                # 'yield' is special - it sends the current state of the response to Gradio\n",
    "                # This makes the text appear to be typing in real-time\n",
    "                yield full_response\n",
    "\n",
    "    except Exception as e:\n",
    "        print(f\"An error occurred during streaming: {e}\")\n",
    "        yield f\"Sorry, I encountered an error: {e}\""
   ],
   "metadata": {
    "collapsed": false,
    "ExecuteTime": {
     "end_time": "2025-09-06T09:28:33.275467100Z",
     "start_time": "2025-09-06T09:28:33.194559600Z"
    }
   }
  },
  {
   "cell_type": "code",
   "execution_count": 10,
   "outputs": [
    {
     "name": "stderr",
     "output_type": "stream",
     "text": [
      "C:\\Users\\acer\\anaconda3\\Lib\\site-packages\\gradio\\interface.py:414: UserWarning: The `allow_flagging` parameter in `Interface` is deprecated. Use `flagging_mode` instead.\n",
      "  warnings.warn(\n"
     ]
    },
    {
     "name": "stdout",
     "output_type": "stream",
     "text": [
      "Launching Advanced Gradio Interface with Slider...\n",
      "* Running on local URL:  http://127.0.0.1:7861\n",
      "* To create a public link, set `share=True` in `launch()`.\n"
     ]
    },
    {
     "data": {
      "text/plain": "<IPython.core.display.HTML object>",
      "text/html": "<div><iframe src=\"http://127.0.0.1:7861/\" width=\"100%\" height=\"500\" allow=\"autoplay; camera; microphone; clipboard-read; clipboard-write;\" frameborder=\"0\" allowfullscreen></iframe></div>"
     },
     "metadata": {},
     "output_type": "display_data"
    },
    {
     "data": {
      "text/plain": ""
     },
     "execution_count": 10,
     "metadata": {},
     "output_type": "execute_result"
    }
   ],
   "source": [
    "# Define the Gradio interface with both Textbox and slider inputs\n",
    "ai_tutor_interface_slider = gr.Interface(fn = stream_ai_tutor_response_with_level,  # Function now takes 2 args\n",
    "    inputs=[\n",
    "        gr.Textbox(lines = 3, placeholder = \"Ask the AI Tutor a question...\", label = \"Your Question\"),\n",
    "        gr.Slider(\n",
    "            minimum = 1,\n",
    "            maximum = 5,\n",
    "            step = 1,  # Only allow whole numbers\n",
    "            value = 3,  # Default level (high school)\n",
    "            label = \"Explanation Level\",  # Label for the slider\n",
    "        ),\n",
    "    ],\n",
    "    outputs = gr.Markdown(label = \"AI Tutor's Explanation (Streaming)\", container = True, height = 250),\n",
    "    title = \"🎓 Advanced AI Tutor\",\n",
    "    description = \"Ask a question and select the desired level of explanation using the slider.\",\n",
    "    allow_flagging = \"never\",\n",
    ")\n",
    "\n",
    "# Launch the advanced interface\n",
    "print(\"Launching Advanced Gradio Interface with Slider...\")\n",
    "ai_tutor_interface_slider.launch()"
   ],
   "metadata": {
    "collapsed": false,
    "ExecuteTime": {
     "end_time": "2025-09-06T09:28:50.666842700Z",
     "start_time": "2025-09-06T09:28:47.985714Z"
    }
   }
  },
  {
   "cell_type": "code",
   "execution_count": null,
   "outputs": [],
   "source": [],
   "metadata": {
    "collapsed": false
   }
  }
 ],
 "metadata": {
  "kernelspec": {
   "display_name": "Python 3",
   "language": "python",
   "name": "python3"
  },
  "language_info": {
   "codemirror_mode": {
    "name": "ipython",
    "version": 2
   },
   "file_extension": ".py",
   "mimetype": "text/x-python",
   "name": "python",
   "nbconvert_exporter": "python",
   "pygments_lexer": "ipython2",
   "version": "2.7.6"
  }
 },
 "nbformat": 4,
 "nbformat_minor": 0
}
